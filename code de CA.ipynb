{
 "cells": [
  {
   "cell_type": "markdown",
   "metadata": {},
   "source": [
    "Les trois critères : \n",
    "- taille de la voiture\n",
    "- Consommation et écologie\n",
    "- moteur (nombre de cheveaux)\n",
    "Taux de préférence des clients :\n",
    "- tranche d'âge:\n",
    "    - Hommes (18-25) : taille, consommation, moteur\n",
    "    - Femmes (18-25) : taille, consommation, moteur\n",
    "    - Homme(25-50) : consommation,moteur, taille\n",
    "    - Femmes (25-50) : consommation, taille, moteur\n",
    "    - Hommes (+50) : consommation, taille + moteur\n",
    "    - Femmes (+50) : consommation, taille, moteur\n",
    " - taille : petite (3 portes et 4 places) , grande ( 5 portes et 5 ou 7 places)\n",
    " - consommation : éléctrique et essence\n",
    " - moteur : moyenne, 113 chevaux "
   ]
  },
  {
   "cell_type": "code",
   "execution_count": null,
   "metadata": {},
   "outputs": [],
   "source": [
    "#proportion initial\n",
    "Z0 = {\"Hommes 18-25\":2992571,\"Femmes 18-25\":2909618,\"Homme 25-50\":9974755,\"Femmes 25-50\":10290162,\"Hommes +50\":11304370\\\\\n",
    ",\"Femmes +50\":13477871}\n",
    "Homme_18_25 = {taille :{\"gde 5 portes,7 places\":,\"gde 5 portes, 5 places\":,\"gde 5 portes, 4 places\":,\"petite 3 portes, 4places\":,\"petite 3 portes, 2 places\":,\"petite 2 portes, 2 places\":}, moteur :{\"citadine\": ,\"berline\": ,\"sport\": }, consommation:{\"électrique\": ,\"essence ou diesel\": }}\n",
    "Homme_26_50 = {taille :{\"gde 5 portes,7 places\":,\"gde 5 portes, 5 places\":,\"gde 5 portes, 4 places\":,\"petite 3 portes, 4places\":,\"petite 3 portes, 2 places\":,\"petite 2 portes, 2 places\":}, moteur :{\"citadine\": ,\"berline\": ,\"sport\": }, consommation:{\"électrique\": ,\"essence ou diesel\": }}\n",
    "Homme_50_ou_plus = {taille :{\"gde 5 portes,7 places\":,\"gde 5 portes, 5 places\":,\"gde 5 portes, 4 places\":,\"petite 3 portes, 4places\":,\"petite 3 portes, 2 places\":,\"petite 2 portes, 2 places\":}, moteur :{\"citadine\": ,\"berline\": ,\"sport\": }, consommation:{\"électrique\": ,\"essence ou diesel\": }} \n",
    "Femme_18_25 = {taille :{\"gde 5 portes,7 places\":,\"gde 5 portes, 5 places\":,\"gde 5 portes, 4 places\":,\"petite 3 portes, 4places\":,\"petite 3 portes, 2 places\":,\"petite 2 portes, 2 places\":}, moteur :{\"citadine\": ,\"berline\": ,\"sport\": }, consommation:{\"électrique\": ,\"essence ou diesel\": }}\n",
    "Femme_26_50 = {taille :{\"gde 5 portes,7 places\":,\"gde 5 portes, 5 places\":,\"gde 5 portes, 4 places\":,\"petite 3 portes, 4places\":,\"petite 3 portes, 2 places\":,\"petite 2 portes, 2 places\":}, moteur :{\"citadine\": ,\"berline\": ,\"sport\": }, consommation:{\"électrique\": ,\"essence ou diesel\": }}\n",
    "Femme_50_ou_plus = {taille :{\"gde 5 portes,7 places\":,\"gde 5 portes, 5 places\":,\"gde 5 portes, 4 places\":,\"petite 3 portes, 4places\":,\"petite 3 portes, 2 places\":,\"petite 2 portes, 2 places\":}, moteur :{\"citadine\": ,\"berline\": ,\"sport\": }, consommation:{\"électrique\": ,\"essence ou diesel\": }}\n",
    "Voiture = {entreprise_1 : [\"gde 5 portes, 5 places\",\"citadine\",\"électrique\"], entreprise_2:[\"petite 3 portes, 4places\",\"sport\",\"essence ou diesel\"]} \n",
    "\n",
    "def score_première_periode(client,groupe,Voiture):\n",
    "    \"la fonction compare les voitures des deux entreprises à partir d'un score qui dépendera des préférences des\\\\\n",
    "    clients\"\n",
    "    Comparaison = {}\n",
    "    Comparaison[\"score 1\"] = Z0[groupe]*client[taille][Voiture[entreprise_1][0]]+ Z0[groupe]*client[moteur][Voiture[entreprise_1][1]]+ Z0[groupe]*client[taille][Voiture[entreprise_1][2]]\n",
    "    Comparaison[\"score 2\"] = Z0[groupe]*client[taille][Voiture[entreprise_2][0]]+Z0[groupe]*client[taille][Voiture[entreprise_2][1]]+Z0[groupe]*client[taille][Voiture[entreprise_2][2]]\n",
    "    \n",
    "    return Comparaison\n",
    "\n",
    "    \n",
    "\n",
    "        \n",
    "        \n",
    "        \n",
    "    \n",
    "    "
   ]
  }
 ],
 "metadata": {
  "kernelspec": {
   "display_name": "Python 3",
   "language": "python",
   "name": "python3"
  },
  "language_info": {
   "codemirror_mode": {
    "name": "ipython",
    "version": 3
   },
   "file_extension": ".py",
   "mimetype": "text/x-python",
   "name": "python",
   "nbconvert_exporter": "python",
   "pygments_lexer": "ipython3",
   "version": "3.5.3"
  }
 },
 "nbformat": 4,
 "nbformat_minor": 2
}
